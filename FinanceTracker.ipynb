{
  "nbformat": 4,
  "nbformat_minor": 0,
  "metadata": {
    "colab": {
      "provenance": []
    },
    "kernelspec": {
      "name": "python3",
      "display_name": "Python 3"
    },
    "language_info": {
      "name": "python"
    }
  },
  "cells": [
    {
      "cell_type": "code",
      "source": [
        "import gspread\n",
        "from google.colab import auth\n",
        "from google.auth import default\n",
        "\n",
        "auth.authenticate_user()\n",
        "creds, _ = default()\n",
        "gc = gspread.authorize(creds)\n",
        "print(\"✅ Google Colab is now authenticated!\")"
      ],
      "metadata": {
        "colab": {
          "base_uri": "https://localhost:8080/"
        },
        "id": "Ht-prplKLAwv",
        "outputId": "88cf5cef-c29a-4cce-81fd-65ec3b453f27"
      },
      "execution_count": null,
      "outputs": [
        {
          "output_type": "stream",
          "name": "stdout",
          "text": [
            "✅ Google Colab is now authenticated!\n"
          ]
        }
      ]
    },
    {
      "cell_type": "code",
      "source": [
        "spreadsheet = gc.open(\"Finance Tracker\")\n",
        "worksheet = spreadsheet.sheet1\n",
        "print(\"✅ Google Sheet Connected Successfully!\")"
      ],
      "metadata": {
        "colab": {
          "base_uri": "https://localhost:8080/"
        },
        "id": "fuZCvxmZMDUc",
        "outputId": "0eb8b309-5113-4232-fdc1-c629c3f580bb"
      },
      "execution_count": null,
      "outputs": [
        {
          "output_type": "stream",
          "name": "stdout",
          "text": [
            "✅ Google Sheet Connected Successfully!\n"
          ]
        }
      ]
    },
    {
      "cell_type": "code",
      "source": [
        "import datetime\n",
        "\n",
        "spreadsheet = gc.open(\"Finance Tracker\")\n",
        "worksheet = spreadsheet.sheet1\n",
        "\n",
        "def add_transaction(date, category, amount, transaction_type):\n",
        "    worksheet.append_row([date, category, amount, transaction_type])\n",
        "    print(f\"✅ Added: {date}, {category}, {amount}, {transaction_type}\")\n",
        "\n",
        "add_transaction(str(datetime.date.today()), \"Salary\", 50000, \"Income\")\n",
        "add_transaction(str(datetime.date.today()), \"Groceries\", 2000, \"Expense\")\n",
        "add_transaction(str(datetime.date.today()), \"Rent\", 10000, \"Expense\")"
      ],
      "metadata": {
        "colab": {
          "base_uri": "https://localhost:8080/"
        },
        "id": "Dgc7lmkNMs8y",
        "outputId": "7bf1af81-4c66-4c08-c980-9ef7d22d8afc"
      },
      "execution_count": null,
      "outputs": [
        {
          "output_type": "stream",
          "name": "stdout",
          "text": [
            "✅ Added: 2025-03-13, Salary, 50000, Income\n",
            "✅ Added: 2025-03-13, Groceries, 2000, Expense\n",
            "✅ Added: 2025-03-13, Rent, 10000, Expense\n"
          ]
        }
      ]
    },
    {
      "cell_type": "code",
      "source": [
        "\n",
        "data = worksheet.get_all_values()\n",
        "df = pd.DataFrame(data, columns=[\"Date\", \"Category\", \"Amount\", \"Type\"])\n",
        "df.head()"
      ],
      "metadata": {
        "colab": {
          "base_uri": "https://localhost:8080/",
          "height": 175
        },
        "id": "ngiInxeUNDfv",
        "outputId": "9a69e2f2-55ff-4bb7-f857-e655631335e0"
      },
      "execution_count": null,
      "outputs": [
        {
          "output_type": "execute_result",
          "data": {
            "text/plain": [
              "         Date   Category  Amount     Type\n",
              "0        Date   Category  Amount         \n",
              "1  2025-03-13     Salary   50000   Income\n",
              "2  2025-03-13  Groceries    2000  Expense\n",
              "3  2025-03-13       Rent   10000  Expense"
            ],
            "text/html": [
              "\n",
              "  <div id=\"df-8c3e9d08-24fc-43cb-8239-09128727c7c3\" class=\"colab-df-container\">\n",
              "    <div>\n",
              "<style scoped>\n",
              "    .dataframe tbody tr th:only-of-type {\n",
              "        vertical-align: middle;\n",
              "    }\n",
              "\n",
              "    .dataframe tbody tr th {\n",
              "        vertical-align: top;\n",
              "    }\n",
              "\n",
              "    .dataframe thead th {\n",
              "        text-align: right;\n",
              "    }\n",
              "</style>\n",
              "<table border=\"1\" class=\"dataframe\">\n",
              "  <thead>\n",
              "    <tr style=\"text-align: right;\">\n",
              "      <th></th>\n",
              "      <th>Date</th>\n",
              "      <th>Category</th>\n",
              "      <th>Amount</th>\n",
              "      <th>Type</th>\n",
              "    </tr>\n",
              "  </thead>\n",
              "  <tbody>\n",
              "    <tr>\n",
              "      <th>0</th>\n",
              "      <td>Date</td>\n",
              "      <td>Category</td>\n",
              "      <td>Amount</td>\n",
              "      <td></td>\n",
              "    </tr>\n",
              "    <tr>\n",
              "      <th>1</th>\n",
              "      <td>2025-03-13</td>\n",
              "      <td>Salary</td>\n",
              "      <td>50000</td>\n",
              "      <td>Income</td>\n",
              "    </tr>\n",
              "    <tr>\n",
              "      <th>2</th>\n",
              "      <td>2025-03-13</td>\n",
              "      <td>Groceries</td>\n",
              "      <td>2000</td>\n",
              "      <td>Expense</td>\n",
              "    </tr>\n",
              "    <tr>\n",
              "      <th>3</th>\n",
              "      <td>2025-03-13</td>\n",
              "      <td>Rent</td>\n",
              "      <td>10000</td>\n",
              "      <td>Expense</td>\n",
              "    </tr>\n",
              "  </tbody>\n",
              "</table>\n",
              "</div>\n",
              "    <div class=\"colab-df-buttons\">\n",
              "\n",
              "  <div class=\"colab-df-container\">\n",
              "    <button class=\"colab-df-convert\" onclick=\"convertToInteractive('df-8c3e9d08-24fc-43cb-8239-09128727c7c3')\"\n",
              "            title=\"Convert this dataframe to an interactive table.\"\n",
              "            style=\"display:none;\">\n",
              "\n",
              "  <svg xmlns=\"http://www.w3.org/2000/svg\" height=\"24px\" viewBox=\"0 -960 960 960\">\n",
              "    <path d=\"M120-120v-720h720v720H120Zm60-500h600v-160H180v160Zm220 220h160v-160H400v160Zm0 220h160v-160H400v160ZM180-400h160v-160H180v160Zm440 0h160v-160H620v160ZM180-180h160v-160H180v160Zm440 0h160v-160H620v160Z\"/>\n",
              "  </svg>\n",
              "    </button>\n",
              "\n",
              "  <style>\n",
              "    .colab-df-container {\n",
              "      display:flex;\n",
              "      gap: 12px;\n",
              "    }\n",
              "\n",
              "    .colab-df-convert {\n",
              "      background-color: #E8F0FE;\n",
              "      border: none;\n",
              "      border-radius: 50%;\n",
              "      cursor: pointer;\n",
              "      display: none;\n",
              "      fill: #1967D2;\n",
              "      height: 32px;\n",
              "      padding: 0 0 0 0;\n",
              "      width: 32px;\n",
              "    }\n",
              "\n",
              "    .colab-df-convert:hover {\n",
              "      background-color: #E2EBFA;\n",
              "      box-shadow: 0px 1px 2px rgba(60, 64, 67, 0.3), 0px 1px 3px 1px rgba(60, 64, 67, 0.15);\n",
              "      fill: #174EA6;\n",
              "    }\n",
              "\n",
              "    .colab-df-buttons div {\n",
              "      margin-bottom: 4px;\n",
              "    }\n",
              "\n",
              "    [theme=dark] .colab-df-convert {\n",
              "      background-color: #3B4455;\n",
              "      fill: #D2E3FC;\n",
              "    }\n",
              "\n",
              "    [theme=dark] .colab-df-convert:hover {\n",
              "      background-color: #434B5C;\n",
              "      box-shadow: 0px 1px 3px 1px rgba(0, 0, 0, 0.15);\n",
              "      filter: drop-shadow(0px 1px 2px rgba(0, 0, 0, 0.3));\n",
              "      fill: #FFFFFF;\n",
              "    }\n",
              "  </style>\n",
              "\n",
              "    <script>\n",
              "      const buttonEl =\n",
              "        document.querySelector('#df-8c3e9d08-24fc-43cb-8239-09128727c7c3 button.colab-df-convert');\n",
              "      buttonEl.style.display =\n",
              "        google.colab.kernel.accessAllowed ? 'block' : 'none';\n",
              "\n",
              "      async function convertToInteractive(key) {\n",
              "        const element = document.querySelector('#df-8c3e9d08-24fc-43cb-8239-09128727c7c3');\n",
              "        const dataTable =\n",
              "          await google.colab.kernel.invokeFunction('convertToInteractive',\n",
              "                                                    [key], {});\n",
              "        if (!dataTable) return;\n",
              "\n",
              "        const docLinkHtml = 'Like what you see? Visit the ' +\n",
              "          '<a target=\"_blank\" href=https://colab.research.google.com/notebooks/data_table.ipynb>data table notebook</a>'\n",
              "          + ' to learn more about interactive tables.';\n",
              "        element.innerHTML = '';\n",
              "        dataTable['output_type'] = 'display_data';\n",
              "        await google.colab.output.renderOutput(dataTable, element);\n",
              "        const docLink = document.createElement('div');\n",
              "        docLink.innerHTML = docLinkHtml;\n",
              "        element.appendChild(docLink);\n",
              "      }\n",
              "    </script>\n",
              "  </div>\n",
              "\n",
              "\n",
              "<div id=\"df-b60e3d8d-24a3-47d2-be69-649572142abc\">\n",
              "  <button class=\"colab-df-quickchart\" onclick=\"quickchart('df-b60e3d8d-24a3-47d2-be69-649572142abc')\"\n",
              "            title=\"Suggest charts\"\n",
              "            style=\"display:none;\">\n",
              "\n",
              "<svg xmlns=\"http://www.w3.org/2000/svg\" height=\"24px\"viewBox=\"0 0 24 24\"\n",
              "     width=\"24px\">\n",
              "    <g>\n",
              "        <path d=\"M19 3H5c-1.1 0-2 .9-2 2v14c0 1.1.9 2 2 2h14c1.1 0 2-.9 2-2V5c0-1.1-.9-2-2-2zM9 17H7v-7h2v7zm4 0h-2V7h2v10zm4 0h-2v-4h2v4z\"/>\n",
              "    </g>\n",
              "</svg>\n",
              "  </button>\n",
              "\n",
              "<style>\n",
              "  .colab-df-quickchart {\n",
              "      --bg-color: #E8F0FE;\n",
              "      --fill-color: #1967D2;\n",
              "      --hover-bg-color: #E2EBFA;\n",
              "      --hover-fill-color: #174EA6;\n",
              "      --disabled-fill-color: #AAA;\n",
              "      --disabled-bg-color: #DDD;\n",
              "  }\n",
              "\n",
              "  [theme=dark] .colab-df-quickchart {\n",
              "      --bg-color: #3B4455;\n",
              "      --fill-color: #D2E3FC;\n",
              "      --hover-bg-color: #434B5C;\n",
              "      --hover-fill-color: #FFFFFF;\n",
              "      --disabled-bg-color: #3B4455;\n",
              "      --disabled-fill-color: #666;\n",
              "  }\n",
              "\n",
              "  .colab-df-quickchart {\n",
              "    background-color: var(--bg-color);\n",
              "    border: none;\n",
              "    border-radius: 50%;\n",
              "    cursor: pointer;\n",
              "    display: none;\n",
              "    fill: var(--fill-color);\n",
              "    height: 32px;\n",
              "    padding: 0;\n",
              "    width: 32px;\n",
              "  }\n",
              "\n",
              "  .colab-df-quickchart:hover {\n",
              "    background-color: var(--hover-bg-color);\n",
              "    box-shadow: 0 1px 2px rgba(60, 64, 67, 0.3), 0 1px 3px 1px rgba(60, 64, 67, 0.15);\n",
              "    fill: var(--button-hover-fill-color);\n",
              "  }\n",
              "\n",
              "  .colab-df-quickchart-complete:disabled,\n",
              "  .colab-df-quickchart-complete:disabled:hover {\n",
              "    background-color: var(--disabled-bg-color);\n",
              "    fill: var(--disabled-fill-color);\n",
              "    box-shadow: none;\n",
              "  }\n",
              "\n",
              "  .colab-df-spinner {\n",
              "    border: 2px solid var(--fill-color);\n",
              "    border-color: transparent;\n",
              "    border-bottom-color: var(--fill-color);\n",
              "    animation:\n",
              "      spin 1s steps(1) infinite;\n",
              "  }\n",
              "\n",
              "  @keyframes spin {\n",
              "    0% {\n",
              "      border-color: transparent;\n",
              "      border-bottom-color: var(--fill-color);\n",
              "      border-left-color: var(--fill-color);\n",
              "    }\n",
              "    20% {\n",
              "      border-color: transparent;\n",
              "      border-left-color: var(--fill-color);\n",
              "      border-top-color: var(--fill-color);\n",
              "    }\n",
              "    30% {\n",
              "      border-color: transparent;\n",
              "      border-left-color: var(--fill-color);\n",
              "      border-top-color: var(--fill-color);\n",
              "      border-right-color: var(--fill-color);\n",
              "    }\n",
              "    40% {\n",
              "      border-color: transparent;\n",
              "      border-right-color: var(--fill-color);\n",
              "      border-top-color: var(--fill-color);\n",
              "    }\n",
              "    60% {\n",
              "      border-color: transparent;\n",
              "      border-right-color: var(--fill-color);\n",
              "    }\n",
              "    80% {\n",
              "      border-color: transparent;\n",
              "      border-right-color: var(--fill-color);\n",
              "      border-bottom-color: var(--fill-color);\n",
              "    }\n",
              "    90% {\n",
              "      border-color: transparent;\n",
              "      border-bottom-color: var(--fill-color);\n",
              "    }\n",
              "  }\n",
              "</style>\n",
              "\n",
              "  <script>\n",
              "    async function quickchart(key) {\n",
              "      const quickchartButtonEl =\n",
              "        document.querySelector('#' + key + ' button');\n",
              "      quickchartButtonEl.disabled = true;  // To prevent multiple clicks.\n",
              "      quickchartButtonEl.classList.add('colab-df-spinner');\n",
              "      try {\n",
              "        const charts = await google.colab.kernel.invokeFunction(\n",
              "            'suggestCharts', [key], {});\n",
              "      } catch (error) {\n",
              "        console.error('Error during call to suggestCharts:', error);\n",
              "      }\n",
              "      quickchartButtonEl.classList.remove('colab-df-spinner');\n",
              "      quickchartButtonEl.classList.add('colab-df-quickchart-complete');\n",
              "    }\n",
              "    (() => {\n",
              "      let quickchartButtonEl =\n",
              "        document.querySelector('#df-b60e3d8d-24a3-47d2-be69-649572142abc button');\n",
              "      quickchartButtonEl.style.display =\n",
              "        google.colab.kernel.accessAllowed ? 'block' : 'none';\n",
              "    })();\n",
              "  </script>\n",
              "</div>\n",
              "\n",
              "    </div>\n",
              "  </div>\n"
            ],
            "application/vnd.google.colaboratory.intrinsic+json": {
              "type": "dataframe",
              "variable_name": "df",
              "summary": "{\n  \"name\": \"df\",\n  \"rows\": 4,\n  \"fields\": [\n    {\n      \"column\": \"Date\",\n      \"properties\": {\n        \"dtype\": \"string\",\n        \"num_unique_values\": 2,\n        \"samples\": [\n          \"2025-03-13\",\n          \"Date\"\n        ],\n        \"semantic_type\": \"\",\n        \"description\": \"\"\n      }\n    },\n    {\n      \"column\": \"Category\",\n      \"properties\": {\n        \"dtype\": \"string\",\n        \"num_unique_values\": 4,\n        \"samples\": [\n          \"Salary\",\n          \"Rent\"\n        ],\n        \"semantic_type\": \"\",\n        \"description\": \"\"\n      }\n    },\n    {\n      \"column\": \"Amount\",\n      \"properties\": {\n        \"dtype\": \"string\",\n        \"num_unique_values\": 4,\n        \"samples\": [\n          \"50000\",\n          \"10000\"\n        ],\n        \"semantic_type\": \"\",\n        \"description\": \"\"\n      }\n    },\n    {\n      \"column\": \"Type\",\n      \"properties\": {\n        \"dtype\": \"string\",\n        \"num_unique_values\": 3,\n        \"samples\": [\n          \"\",\n          \"Income\"\n        ],\n        \"semantic_type\": \"\",\n        \"description\": \"\"\n      }\n    }\n  ]\n}"
            }
          },
          "metadata": {},
          "execution_count": 21
        }
      ]
    },
    {
      "cell_type": "code",
      "source": [],
      "metadata": {
        "id": "vI7c5NUFTizb"
      },
      "execution_count": null,
      "outputs": []
    },
    {
      "cell_type": "code",
      "source": [
        "\n",
        "data = worksheet.get_all_values()\n",
        "\n",
        "df = pd.DataFrame(data)\n",
        "print(\"🔹 Column Names in Your Google Sheet:\")\n",
        "print(df.iloc[0].tolist())"
      ],
      "metadata": {
        "colab": {
          "base_uri": "https://localhost:8080/"
        },
        "id": "UG-5HFuhO17E",
        "outputId": "090f8e84-0a86-4d78-898b-058425d50a73"
      },
      "execution_count": null,
      "outputs": [
        {
          "output_type": "stream",
          "name": "stdout",
          "text": [
            "🔹 Column Names in Your Google Sheet:\n",
            "['Date', 'Category', 'Amount', '']\n"
          ]
        }
      ]
    },
    {
      "cell_type": "code",
      "source": [],
      "metadata": {
        "id": "O27D3AwUTqmv"
      },
      "execution_count": null,
      "outputs": []
    },
    {
      "cell_type": "code",
      "source": [
        "!pip install reportlab"
      ],
      "metadata": {
        "colab": {
          "base_uri": "https://localhost:8080/"
        },
        "id": "MD7QLwUyTtFE",
        "outputId": "01513d63-48d7-418a-eb09-e831497b667b"
      },
      "execution_count": null,
      "outputs": [
        {
          "output_type": "stream",
          "name": "stdout",
          "text": [
            "Collecting reportlab\n",
            "  Downloading reportlab-4.3.1-py3-none-any.whl.metadata (1.7 kB)\n",
            "Requirement already satisfied: pillow>=9.0.0 in /usr/local/lib/python3.11/dist-packages (from reportlab) (11.1.0)\n",
            "Requirement already satisfied: chardet in /usr/local/lib/python3.11/dist-packages (from reportlab) (5.2.0)\n",
            "Downloading reportlab-4.3.1-py3-none-any.whl (1.9 MB)\n",
            "\u001b[2K   \u001b[90m━━━━━━━━━━━━━━━━━━━━━━━━━━━━━━━━━━━━━━━━\u001b[0m \u001b[32m1.9/1.9 MB\u001b[0m \u001b[31m24.4 MB/s\u001b[0m eta \u001b[36m0:00:00\u001b[0m\n",
            "\u001b[?25hInstalling collected packages: reportlab\n",
            "Successfully installed reportlab-4.3.1\n"
          ]
        }
      ]
    },
    {
      "cell_type": "code",
      "source": [
        "\n",
        "total_income = df[df[\"type\"] == \"Income\"][\"amount\"].sum()\n",
        "total_expenses = df[df[\"type\"] == \"Expense\"][\"amount\"].sum()\n",
        "savings = total_income - total_expenses\n",
        "\n",
        "print(f\"💰 Total Income: ₹{total_income}\")\n",
        "print(f\"💸 Total Expenses: ₹{total_expenses}\")\n",
        "print(f\"💾 Savings: ₹{savings}\")"
      ],
      "metadata": {
        "colab": {
          "base_uri": "https://localhost:8080/"
        },
        "id": "8WNtNO-8Ul1z",
        "outputId": "a21eea75-519a-49e0-de7d-0f1df600864d"
      },
      "execution_count": null,
      "outputs": [
        {
          "output_type": "stream",
          "name": "stdout",
          "text": [
            "💰 Total Income: ₹50000\n",
            "💸 Total Expenses: ₹12000\n",
            "💾 Savings: ₹38000\n"
          ]
        }
      ]
    },
    {
      "cell_type": "code",
      "source": [
        "\n",
        "total_income = df[df[\"type\"] == \"Income\"][\"amount\"].sum()\n",
        "total_expenses = df[df[\"type\"] == \"Expense\"][\"amount\"].sum()\n",
        "savings = total_income - total_expenses\n",
        "\n",
        "print(f\"💰 Total Income: ₹{total_income}\")\n",
        "print(f\"💸 Total Expenses: ₹{total_expenses}\")\n",
        "print(f\"💾 Savings: ₹{savings}\")"
      ],
      "metadata": {
        "colab": {
          "base_uri": "https://localhost:8080/"
        },
        "id": "IojLNqN6Utpf",
        "outputId": "732db2a3-adb9-4221-dbe5-024bf845950d"
      },
      "execution_count": null,
      "outputs": [
        {
          "output_type": "stream",
          "name": "stdout",
          "text": [
            "💰 Total Income: ₹50000\n",
            "💸 Total Expenses: ₹12000\n",
            "💾 Savings: ₹38000\n"
          ]
        }
      ]
    },
    {
      "cell_type": "code",
      "source": [
        "from reportlab.lib.pagesizes import letter\n",
        "from reportlab.pdfgen import canvas\n",
        "import datetime\n",
        "\n",
        "\n",
        "pdf_filename = \"Finance_Tracker_Report.pdf\"\n",
        "\n",
        "c = canvas.Canvas(pdf_filename, pagesize=letter)\n",
        "c.setFont(\"Helvetica\", 12)\n",
        "\n",
        "c.drawString(100, 750, \"📊 Finance Tracker Summary Report\")\n",
        "c.drawString(100, 730, f\"📅 Report Date: {datetime.datetime.now().strftime('%Y-%m-%d')}\")\n",
        "c.line(100, 725, 500, 725)\n",
        "\n",
        "c.drawString(100, 700, f\"💰 Total Income: ₹{total_income}\")\n",
        "c.drawString(100, 680, f\"💸 Total Expenses: ₹{total_expenses}\")\n",
        "c.drawString(100, 660, f\"💾 Savings: ₹{savings}\")\n",
        "\n",
        "c.drawString(100, 630, \"📆 Monthly Expense Breakdown:\")\n",
        "y_position = 610\n",
        "for month, expense in monthly_expense.items():\n",
        "    c.drawString(120, y_position, f\"{month}: ₹{expense}\")\n",
        "    y_position -= 20\n",
        "\n",
        "c.save()\n",
        "print(f\"✅ PDF Report '{pdf_filename}' generated successfully!\")"
      ],
      "metadata": {
        "colab": {
          "base_uri": "https://localhost:8080/"
        },
        "id": "BtbchezQVBWr",
        "outputId": "67e425fb-788d-4053-ae64-19167e515a1c"
      },
      "execution_count": null,
      "outputs": [
        {
          "output_type": "stream",
          "name": "stdout",
          "text": [
            "✅ PDF Report 'Finance_Tracker_Report.pdf' generated successfully!\n"
          ]
        }
      ]
    },
    {
      "cell_type": "code",
      "source": [
        "\n",
        "data = worksheet.get_all_values()\n",
        "df = pd.DataFrame(data)\n",
        "df.columns = df.iloc[0]\n",
        "df = df[1:]\n",
        "df.columns = df.columns.str.strip().str.lower()\n",
        "\n",
        "df.rename(columns={\"\": \"type\"}, inplace=True)\n",
        "\n",
        "df[\"amount\"] = pd.to_numeric(df[\"amount\"])\n",
        "total_income = df[df[\"type\"].str.lower() == \"income\"][\"amount\"].sum()\n",
        "total_expense = df[df[\"type\"].str.lower() == \"expense\"][\"amount\"].sum()\n",
        "\n",
        "print(f\"💰 Total Income: ₹{total_income}\")\n",
        "print(f\"💸 Total Expenses: ₹{total_expense}\")\n",
        "print(f\"📉 Savings: ₹{total_income - total_expense}\")"
      ],
      "metadata": {
        "colab": {
          "base_uri": "https://localhost:8080/"
        },
        "id": "pxCPQhl3PUVE",
        "outputId": "cfce6283-a683-4251-b96d-a37806bf9e55"
      },
      "execution_count": null,
      "outputs": [
        {
          "output_type": "stream",
          "name": "stdout",
          "text": [
            "💰 Total Income: ₹50000\n",
            "💸 Total Expenses: ₹12000\n",
            "📉 Savings: ₹38000\n"
          ]
        }
      ]
    },
    {
      "cell_type": "code",
      "source": [
        "from google.colab import files\n",
        "\n",
        "files.download(\"Finance_Tracker_Report.pdf\")"
      ],
      "metadata": {
        "colab": {
          "base_uri": "https://localhost:8080/",
          "height": 17
        },
        "id": "Gcu3WKASVT23",
        "outputId": "f00c7d31-8699-4deb-da0b-f0161d7e50e2"
      },
      "execution_count": null,
      "outputs": [
        {
          "output_type": "display_data",
          "data": {
            "text/plain": [
              "<IPython.core.display.Javascript object>"
            ],
            "application/javascript": [
              "\n",
              "    async function download(id, filename, size) {\n",
              "      if (!google.colab.kernel.accessAllowed) {\n",
              "        return;\n",
              "      }\n",
              "      const div = document.createElement('div');\n",
              "      const label = document.createElement('label');\n",
              "      label.textContent = `Downloading \"${filename}\": `;\n",
              "      div.appendChild(label);\n",
              "      const progress = document.createElement('progress');\n",
              "      progress.max = size;\n",
              "      div.appendChild(progress);\n",
              "      document.body.appendChild(div);\n",
              "\n",
              "      const buffers = [];\n",
              "      let downloaded = 0;\n",
              "\n",
              "      const channel = await google.colab.kernel.comms.open(id);\n",
              "      // Send a message to notify the kernel that we're ready.\n",
              "      channel.send({})\n",
              "\n",
              "      for await (const message of channel.messages) {\n",
              "        // Send a message to notify the kernel that we're ready.\n",
              "        channel.send({})\n",
              "        if (message.buffers) {\n",
              "          for (const buffer of message.buffers) {\n",
              "            buffers.push(buffer);\n",
              "            downloaded += buffer.byteLength;\n",
              "            progress.value = downloaded;\n",
              "          }\n",
              "        }\n",
              "      }\n",
              "      const blob = new Blob(buffers, {type: 'application/binary'});\n",
              "      const a = document.createElement('a');\n",
              "      a.href = window.URL.createObjectURL(blob);\n",
              "      a.download = filename;\n",
              "      div.appendChild(a);\n",
              "      a.click();\n",
              "      div.remove();\n",
              "    }\n",
              "  "
            ]
          },
          "metadata": {}
        },
        {
          "output_type": "display_data",
          "data": {
            "text/plain": [
              "<IPython.core.display.Javascript object>"
            ],
            "application/javascript": [
              "download(\"download_750c438f-7aa2-4e78-a207-d5a2b83d7a62\", \"Finance_Tracker_Report.pdf\", 1717)"
            ]
          },
          "metadata": {}
        }
      ]
    },
    {
      "cell_type": "code",
      "source": [
        "!pip install yagmail"
      ],
      "metadata": {
        "colab": {
          "base_uri": "https://localhost:8080/"
        },
        "id": "rZYfxUtmXNaU",
        "outputId": "26ec0a86-3033-466b-bd49-a4784b0e8bb2"
      },
      "execution_count": null,
      "outputs": [
        {
          "output_type": "stream",
          "name": "stdout",
          "text": [
            "Collecting yagmail\n",
            "  Downloading yagmail-0.15.293-py2.py3-none-any.whl.metadata (2.9 kB)\n",
            "Collecting premailer (from yagmail)\n",
            "  Downloading premailer-3.10.0-py2.py3-none-any.whl.metadata (15 kB)\n",
            "Requirement already satisfied: lxml in /usr/local/lib/python3.11/dist-packages (from premailer->yagmail) (5.3.1)\n",
            "Collecting cssselect (from premailer->yagmail)\n",
            "  Downloading cssselect-1.3.0-py3-none-any.whl.metadata (2.6 kB)\n",
            "Collecting cssutils (from premailer->yagmail)\n",
            "  Downloading cssutils-2.11.1-py3-none-any.whl.metadata (8.7 kB)\n",
            "Requirement already satisfied: requests in /usr/local/lib/python3.11/dist-packages (from premailer->yagmail) (2.32.3)\n",
            "Requirement already satisfied: cachetools in /usr/local/lib/python3.11/dist-packages (from premailer->yagmail) (5.5.2)\n",
            "Requirement already satisfied: more-itertools in /usr/local/lib/python3.11/dist-packages (from cssutils->premailer->yagmail) (10.6.0)\n",
            "Requirement already satisfied: charset-normalizer<4,>=2 in /usr/local/lib/python3.11/dist-packages (from requests->premailer->yagmail) (3.4.1)\n",
            "Requirement already satisfied: idna<4,>=2.5 in /usr/local/lib/python3.11/dist-packages (from requests->premailer->yagmail) (3.10)\n",
            "Requirement already satisfied: urllib3<3,>=1.21.1 in /usr/local/lib/python3.11/dist-packages (from requests->premailer->yagmail) (2.3.0)\n",
            "Requirement already satisfied: certifi>=2017.4.17 in /usr/local/lib/python3.11/dist-packages (from requests->premailer->yagmail) (2025.1.31)\n",
            "Downloading yagmail-0.15.293-py2.py3-none-any.whl (17 kB)\n",
            "Downloading premailer-3.10.0-py2.py3-none-any.whl (19 kB)\n",
            "Downloading cssselect-1.3.0-py3-none-any.whl (18 kB)\n",
            "Downloading cssutils-2.11.1-py3-none-any.whl (385 kB)\n",
            "\u001b[2K   \u001b[90m━━━━━━━━━━━━━━━━━━━━━━━━━━━━━━━━━━━━━━━━\u001b[0m \u001b[32m385.7/385.7 kB\u001b[0m \u001b[31m10.0 MB/s\u001b[0m eta \u001b[36m0:00:00\u001b[0m\n",
            "\u001b[?25hInstalling collected packages: cssutils, cssselect, premailer, yagmail\n",
            "Successfully installed cssselect-1.3.0 cssutils-2.11.1 premailer-3.10.0 yagmail-0.15.293\n"
          ]
        }
      ]
    },
    {
      "cell_type": "code",
      "source": [
        "import matplotlib.pyplot as plt\n",
        "expense_data = df[df[\"type\"].str.lower() == \"expense\"].groupby(\"category\")[\"amount\"].sum()\n",
        "plt.figure(figsize=(6,6))\n",
        "plt.pie(expense_data, labels=expense_data.index, autopct=\"%1.1f%%\", startangle=140)\n",
        "plt.title(\"💸 Expense Breakdown\")\n",
        "plt.show()"
      ],
      "metadata": {
        "colab": {
          "base_uri": "https://localhost:8080/",
          "height": 576
        },
        "id": "RYqYJJwyPpPp",
        "outputId": "bf100aef-b862-458f-ff93-a7e6bbef4851"
      },
      "execution_count": null,
      "outputs": [
        {
          "output_type": "stream",
          "name": "stderr",
          "text": [
            "/usr/local/lib/python3.11/dist-packages/IPython/core/pylabtools.py:151: UserWarning: Glyph 128184 (\\N{MONEY WITH WINGS}) missing from font(s) DejaVu Sans.\n",
            "  fig.canvas.print_figure(bytes_io, **kw)\n"
          ]
        },
        {
          "output_type": "display_data",
          "data": {
            "text/plain": [
              "<Figure size 600x600 with 1 Axes>"
            ],
            "image/png": "[encoded data removed]"
          },
          "metadata": {}
        }
      ]
    },
    {
      "cell_type": "code",
      "source": [
        "import yagmail\n",
        "\n",
        "sender_email = \"yuva532@gmail.com\"\n",
        "app_password = \"wljf pgdm yteo yrok\"\n",
        "receiver_email = \"your-receiver@gmail.com\"\n",
        "\n",
        "subject = \"📊 Monthly Finance Tracker Report\"\n",
        "body = f\"\"\"\n",
        "Hello Yuva,\n",
        "\n",
        "Here is your Finance Tracker summary:\n",
        "\n",
        "💰 Total Income: ₹{total_income}\n",
        "💸 Total Expenses: ₹{total_expenses}\n",
        "💾 Savings: ₹{savings}\n",
        "\n",
        "Your detailed report is attached as a PDF.\n",
        "\n",
        "Best,\n",
        "Your Finance Tracker Bot\n",
        "\"\"\"\n",
        "\n",
        "yag = yagmail.SMTP(sender_email, app_password)\n",
        "yag.send(to=receiver_email, subject=subject, contents=body, attachments=\"Finance_Tracker_Report.pdf\")\n",
        "\n",
        "print(\"✅ Email sent successfully!\")"
      ],
      "metadata": {
        "colab": {
          "base_uri": "https://localhost:8080/"
        },
        "id": "MynP2-gkYomE",
        "outputId": "69804220-bb29-4353-ffdc-4ff6f2f1e1eb"
      },
      "execution_count": null,
      "outputs": [
        {
          "output_type": "stream",
          "name": "stdout",
          "text": [
            "✅ Email sent successfully!\n"
          ]
        }
      ]
    },
    {
      "cell_type": "code",
      "source": [
        "BUDGET_LIMIT = 10000"
      ],
      "metadata": {
        "id": "NT5NltThcbmQ"
      },
      "execution_count": null,
      "outputs": []
    },
    {
      "cell_type": "code",
      "source": [
        "yag = yagmail.SMTP(\"yuva532@gmail.com\",\"wljf pgdm yteo yrok\", \"Finance Tracker Bot\")  # Add sender name"
      ],
      "metadata": {
        "id": "mvZ3AWYPZ8o6"
      },
      "execution_count": null,
      "outputs": []
    },
    {
      "cell_type": "code",
      "source": [
        "\n",
        "df[\"date\"] = pd.to_datetime(df[\"date\"])\n",
        "\n",
        "df[\"month_year\"] = df[\"date\"].dt.to_period(\"M\")\n",
        "\n",
        "monthly_expense = df[df[\"type\"].str.lower() == \"expense\"].groupby(\"month_year\")[\"amount\"].sum()\n",
        "\n",
        "print(\"📆 Monthly Expense Report:\")\n",
        "print(monthly_expense)"
      ],
      "metadata": {
        "colab": {
          "base_uri": "https://localhost:8080/"
        },
        "id": "jP6TaRUaQNhD",
        "outputId": "f634cee1-bf4a-4842-d576-f11cad5fb005"
      },
      "execution_count": null,
      "outputs": [
        {
          "output_type": "stream",
          "name": "stdout",
          "text": [
            "📆 Monthly Expense Report:\n",
            "month_year\n",
            "2025-03    12000\n",
            "Freq: M, Name: amount, dtype: int64\n"
          ]
        }
      ]
    },
    {
      "cell_type": "code",
      "source": [
        "import yagmail"
      ],
      "metadata": {
        "id": "NXWTdRwZfWQe"
      },
      "execution_count": null,
      "outputs": []
    },
    {
      "cell_type": "code",
      "source": [
        "sender_email = \"your-email@gmail.com\"\n",
        "app_password = \"your-app-password\"\n",
        "\n",
        "yag = yagmail.SMTP(sender_email, app_password)"
      ],
      "metadata": {
        "id": "vOfGTZMvff03"
      },
      "execution_count": null,
      "outputs": []
    },
    {
      "cell_type": "code",
      "source": [
        "import matplotlib.pyplot as plt\n",
        "\n",
        "monthly_data = df.groupby([\"month_year\", \"type\"])[\"amount\"].sum().unstack()\n",
        "\n",
        "monthly_data.plot(kind=\"bar\", figsize=(10, 5), color=[\"green\", \"red\"])\n",
        "\n",
        "plt.xlabel(\"Month-Year\")\n",
        "plt.ylabel(\"Amount (₹)\")\n",
        "plt.title(\"📊 Monthly Income vs. Expenses\")\n",
        "plt.legend([\"Income\", \"Expenses\"])\n",
        "plt.xticks(rotation=45)\n",
        "\n",
        "plt.show()"
      ],
      "metadata": {
        "colab": {
          "base_uri": "https://localhost:8080/",
          "height": 579
        },
        "id": "_a2sYyAYQbMS",
        "outputId": "b4356385-18e6-40bd-ce43-6a4d3f9b603b"
      },
      "execution_count": null,
      "outputs": [
        {
          "output_type": "stream",
          "name": "stderr",
          "text": [
            "/usr/local/lib/python3.11/dist-packages/IPython/core/pylabtools.py:151: UserWarning: Glyph 128202 (\\N{BAR CHART}) missing from font(s) DejaVu Sans.\n",
            "  fig.canvas.print_figure(bytes_io, **kw)\n"
          ]
        },
        {
          "output_type": "display_data",
          "data": {
            "text/plain": [
              "<Figure size 1000x500 with 1 Axes>"
            ],
            "image/png": "[encoded data removed]"
          },
          "metadata": {}
        }
      ]
    },
    {
      "cell_type": "code",
      "source": [
        "\n",
        "expense_limit = 10000\n",
        "\n",
        "overspent_months = monthly_expense[monthly_expense > expense_limit]\n",
        "\n",
        "print(f\"💰 Your monthly expense limit: ₹{expense_limit}\\n\")\n",
        "\n",
        "if not overspent_months.empty:\n",
        "    print(\"⚠ Warning! You exceeded the limit in these months:\")\n",
        "    print(overspent_months)\n",
        "else:\n",
        "    print(\"✅ Great job! You stayed within the budget every month\")"
      ],
      "metadata": {
        "colab": {
          "base_uri": "https://localhost:8080/"
        },
        "id": "YtFcXQ-UQuyJ",
        "outputId": "364f3f66-f40d-4aa2-a6ee-884a1f7e102f"
      },
      "execution_count": null,
      "outputs": [
        {
          "output_type": "stream",
          "name": "stdout",
          "text": [
            "💰 Your monthly expense limit: ₹10000\n",
            "\n",
            "⚠ Warning! You exceeded the limit in these months:\n",
            "month_year\n",
            "2025-03    12000\n",
            "Freq: M, Name: amount, dtype: int64\n"
          ]
        }
      ]
    }
  ]
}